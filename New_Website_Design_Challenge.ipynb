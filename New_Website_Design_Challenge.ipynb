{
 "cells": [
  {
   "cell_type": "markdown",
   "id": "9a9ada08-c9f0-466f-91a0-265fa539f9f5",
   "metadata": {},
   "source": [
    "# Which version of the website should you use?\n",
    "\n",
    "## 📖 Background\n",
    "You work for an early-stage startup in Germany. Your team has been working on a redesign of the landing page. The team believes a new design will increase the number of people who click through and join your site. \n",
    "\n",
    "They have been testing the changes for a few weeks and now they want to measure the impact of the change and need you to determine if the increase can be due to random chance or if it is statistically significant."
   ]
  },
  {
   "cell_type": "markdown",
   "id": "10dcc269-3659-4851-99cd-f1ffb7f818aa",
   "metadata": {
    "tags": []
   },
   "source": [
    "## 💾 The data\n",
    "The team assembled the following file:\n",
    "\n",
    "#### Redesign test data\n",
    "- \"treatment\" - \"yes\" if the user saw the new version of the landing page, no otherwise.\n",
    "- \"new_images\" - \"yes\" if the page used a new set of images, no otherwise.\n",
    "- \"converted\" - 1 if the user joined the site, 0 otherwise.\n",
    "\n",
    "The control group is those users with \"no\" in both columns: the old version with the old set of images."
   ]
  },
  {
   "cell_type": "code",
   "execution_count": null,
   "id": "40251159-3eea-47f8-bfb4-09e38d5ced65",
   "metadata": {},
   "outputs": [
    {
     "data": {
      "text/html": [
       "<div>\n",
       "<style scoped>\n",
       "    .dataframe tbody tr th:only-of-type {\n",
       "        vertical-align: middle;\n",
       "    }\n",
       "\n",
       "    .dataframe tbody tr th {\n",
       "        vertical-align: top;\n",
       "    }\n",
       "\n",
       "    .dataframe thead th {\n",
       "        text-align: right;\n",
       "    }\n",
       "</style>\n",
       "<table border=\"1\" class=\"dataframe\">\n",
       "  <thead>\n",
       "    <tr style=\"text-align: right;\">\n",
       "      <th></th>\n",
       "      <th>treatment</th>\n",
       "      <th>new_images</th>\n",
       "      <th>converted</th>\n",
       "    </tr>\n",
       "  </thead>\n",
       "  <tbody>\n",
       "    <tr>\n",
       "      <th>0</th>\n",
       "      <td>yes</td>\n",
       "      <td>yes</td>\n",
       "      <td>0</td>\n",
       "    </tr>\n",
       "    <tr>\n",
       "      <th>1</th>\n",
       "      <td>yes</td>\n",
       "      <td>yes</td>\n",
       "      <td>0</td>\n",
       "    </tr>\n",
       "    <tr>\n",
       "      <th>2</th>\n",
       "      <td>yes</td>\n",
       "      <td>yes</td>\n",
       "      <td>0</td>\n",
       "    </tr>\n",
       "    <tr>\n",
       "      <th>3</th>\n",
       "      <td>yes</td>\n",
       "      <td>no</td>\n",
       "      <td>0</td>\n",
       "    </tr>\n",
       "    <tr>\n",
       "      <th>4</th>\n",
       "      <td>no</td>\n",
       "      <td>yes</td>\n",
       "      <td>0</td>\n",
       "    </tr>\n",
       "  </tbody>\n",
       "</table>\n",
       "</div>"
      ],
      "text/plain": [
       "  treatment new_images  converted\n",
       "0       yes        yes          0\n",
       "1       yes        yes          0\n",
       "2       yes        yes          0\n",
       "3       yes         no          0\n",
       "4        no        yes          0"
      ]
     },
     "execution_count": 33,
     "metadata": {},
     "output_type": "execute_result"
    }
   ],
   "source": [
    "import pandas as pd\n",
    "df = pd.read_csv('./data/redesign.csv')\n",
    "df.head()"
   ]
  },
  {
   "cell_type": "markdown",
   "id": "54e0ae0c-ff96-443e-9ff3-718f1ab846e5",
   "metadata": {},
   "source": [
    "## 💪 Challenge\n",
    "Complete the following tasks:\n",
    "\n",
    "1. Analyze the conversion rates for each of the four groups: the new/old design of the landing page and the new/old pictures.\n",
    "2. Can the increases observed be explained by randomness? (Hint: Think A/B test)\n",
    "3. Which version of the website should they use?"
   ]
  },
  {
   "cell_type": "markdown",
   "id": "7fa68a10-14d8-4db9-a473-9efdab8f2fbd",
   "metadata": {},
   "source": [
    "## ✅ Checklist before publishing\n",
    "- Rename your workspace to make it descriptive of your work. N.B. you should leave the notebook name as notebook.ipynb.\n",
    "- Remove redundant cells like the judging criteria, so the workbook is focused on your answers.\n",
    "- Check that all the cells run without error."
   ]
  },
  {
   "cell_type": "markdown",
   "id": "3bef7acb-5b00-4282-8c3e-1aa34bf4b7df",
   "metadata": {},
   "source": [
    "## ⌛️ Time is ticking. Good luck!"
   ]
  },
  {
   "cell_type": "markdown",
   "id": "070b9c14-0517-4428-acb1-77d1c452bc71",
   "metadata": {},
   "source": [
    "3 AB tests will be to be completed to compare to the original version with the old images."
   ]
  },
  {
   "cell_type": "code",
   "execution_count": null,
   "id": "61d09a65-7a7f-43de-951b-decb042f5bd0",
   "metadata": {},
   "outputs": [],
   "source": [
    "# Import necessary libraries\n",
    "import pandas as pd\n",
    "import numpy as np\n",
    "import matplotlib.pyplot as plt\n",
    "import matplotlib as mpl\n",
    "import seaborn as sns\n",
    "from scipy.stats import chi2"
   ]
  },
  {
   "cell_type": "code",
   "execution_count": null,
   "id": "f29d6b31-5391-4d6b-b1a4-5d07738b7254",
   "metadata": {},
   "outputs": [],
   "source": [
    "# separate the data into 4 different dataframes, one for each A/B test\n",
    "# Original version & old images\n",
    "df_original_old = df[ (df['treatment']=='no') & (df['new_images']=='no')]\n",
    "# New version old images\n",
    "df_new_old = df[ (df['treatment']=='yes') & (df['new_images']=='no')]\n",
    "# Original version new images\n",
    "df_original_new = df[ (df['treatment']=='no') & (df['new_images']=='yes')]\n",
    "# New version new images\n",
    "df_new_new = df[ (df['treatment']=='yes') & (df['new_images']=='yes')]"
   ]
  },
  {
   "cell_type": "code",
   "execution_count": null,
   "id": "282cf7e4-6074-4e5f-925b-731ebc5d359a",
   "metadata": {},
   "outputs": [
    {
     "name": "stdout",
     "output_type": "stream",
     "text": [
      "Original Conversion Rate = 0.1071,\n",
      "New Version Old Images Conversion Rate = 0.12,\n",
      "Original Version, New Images Conversion Rate = 0.1125,\n",
      "New Version with New Images Conversion Rate = 0.1137\n"
     ]
    }
   ],
   "source": [
    "# Conversion rate for each for the 4 versions of the website\n",
    "conversion_orig_old = round(df_original_old['converted'].mean(),4)\n",
    "conversion_new_old = round(df_new_old['converted'].mean(),4)\n",
    "conversion_old_new = round(df_original_new['converted'].mean(),4)\n",
    "conversion_new_new = round(df_new_new['converted'].mean(),4)\n",
    "print('Original Conversion Rate = {},\\nNew Version Old Images Conversion Rate = {},\\nOriginal Version, New Images Conversion Rate = {},\\nNew Version with New Images Conversion Rate = {}'.format(conversion_orig_old,conversion_new_old,conversion_old_new,conversion_new_new))"
   ]
  },
  {
   "cell_type": "code",
   "execution_count": null,
   "id": "6a6e2425-9848-4a26-afb1-5edf4002ef1f",
   "metadata": {},
   "outputs": [],
   "source": [
    "# Function to determine the distance & p-value between the theoretical results and obversed ones.\n",
    "# https://towardsdatascience.com/the-art-of-a-b-testing-5a10c9bb70a4\n",
    "# Chi Squared test to determine the difference in observations.\n",
    "def ab_test(df1,df2):\n",
    "    observed = np.array([len(df1[df1['converted']==1]),\\\n",
    "                         len(df2[df2['converted']==1]),\\\n",
    "                         len(df1[df1['converted']==0]),\\\n",
    "                         len(df2[df2['converted']==0])])\n",
    "    p_hat = (len(df1[df1['converted']==1])+len(df2[df2['converted']==1]))/\\\n",
    "    (len(df1[df1['converted']==1])+len(df2[df2['converted']==1])+\\\n",
    "     len(df1[df1['converted']==0])+len(df2[df2['converted']==0]))\n",
    "    theoretical = np.array([len(df1)*p_hat,len(df2)*p_hat,len(df1)*(1-p_hat),len(df2)*(1-p_hat)])\n",
    "    D = np.sum(np.square(theoretical-observed)/theoretical)\n",
    "    pvalue = chi2.sf(D, df=1)\n",
    "    return D,pvalue"
   ]
  },
  {
   "cell_type": "code",
   "execution_count": null,
   "id": "fb1cc9c9-20bc-45fb-a68d-1056cc31e87f",
   "metadata": {},
   "outputs": [
    {
     "name": "stdout",
     "output_type": "stream",
     "text": [
      "8.420967348709025 0.0037091839675173883\n"
     ]
    }
   ],
   "source": [
    "# AB test between original version and new version with old images\n",
    "dist,pval = ab_test(df_original_old,df_new_old)\n",
    "print(dist,pval)"
   ]
  },
  {
   "cell_type": "code",
   "execution_count": null,
   "id": "bbad43c0-9701-4a7f-b6c8-a1e58e434ff7",
   "metadata": {},
   "outputs": [
    {
     "name": "stdout",
     "output_type": "stream",
     "text": [
      "1.5286520798246728 0.21631485629383024\n"
     ]
    }
   ],
   "source": [
    "# AB test between original version and original version with new images\n",
    "dist,pval = ab_test(df_original_old,df_original_new)\n",
    "print(dist,pval)"
   ]
  },
  {
   "cell_type": "code",
   "execution_count": null,
   "id": "0663c5ad-f0b0-45d5-a8da-cc551ce44d06",
   "metadata": {},
   "outputs": [
    {
     "name": "stdout",
     "output_type": "stream",
     "text": [
      "2.2577930605907794 0.13294339963478105\n"
     ]
    }
   ],
   "source": [
    "# AB test between original version and new version with new images\n",
    "dist,pval = ab_test(df_original_old,df_new_new)\n",
    "print(dist,pval)"
   ]
  },
  {
   "cell_type": "markdown",
   "id": "ee120118-8875-499c-8c9d-d838ff995d81",
   "metadata": {},
   "source": [
    "The new version of the website with the old images had a conversion rate which was statistically significant from the original. The others were not significant and therefore could be different by chance.\n",
    "\n",
    "The new version of the website with old images should be used."
   ]
  }
 ],
 "metadata": {
  "kernelspec": {
   "display_name": "Python 3 (ipykernel)",
   "language": "python",
   "name": "python3"
  },
  "language_info": {
   "codemirror_mode": {
    "name": "ipython",
    "version": 3
   },
   "file_extension": ".py",
   "mimetype": "text/x-python",
   "name": "python",
   "nbconvert_exporter": "python",
   "pygments_lexer": "ipython3",
   "version": "3.8.10"
  }
 },
 "nbformat": 4,
 "nbformat_minor": 5
}
